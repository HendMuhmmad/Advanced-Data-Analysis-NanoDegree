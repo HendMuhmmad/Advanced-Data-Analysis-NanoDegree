{
 "cells": [
  {
   "cell_type": "markdown",
   "metadata": {},
   "source": [
    "# (Airline on time Dataset Exploration)\n",
    "## by (Hend Muhammad)\n",
    "\n",
    "## Preliminary Wrangling\n",
    "\n",
    "> This dataset reports flights in the United States, including carriers, arrival and departure delays, and reasons for delays, from 1987 to 2008.\n",
    ">The data comes originally from RITA where it is described in detail.\n",
    ">During this exploration we will be looking at year 2008 to answer questions like:\n",
    "\n",
    ">1) Are there certain destination or arrival cities that are home to more delays or cancellations?\n",
    "\n",
    ">2) What are the preferred times for flights to occur?\n",
    "\n",
    ">3) Are there certain flight distances home to more delays or cancellations?"
   ]
  },
  {
   "cell_type": "code",
   "execution_count": 1,
   "metadata": {},
   "outputs": [],
   "source": [
    "# import all packages and set plots to be embedded inline\n",
    "import numpy as np\n",
    "import pandas as pd\n",
    "import matplotlib.pyplot as plt\n",
    "import seaborn as sb\n",
    "\n",
    "%matplotlib inline"
   ]
  },
  {
   "cell_type": "markdown",
   "metadata": {},
   "source": [
    "> First we load the 2008 dataset"
   ]
  },
  {
   "cell_type": "code",
   "execution_count": 2,
   "metadata": {
    "scrolled": false
   },
   "outputs": [
    {
     "data": {
      "text/html": [
       "<div>\n",
       "<style scoped>\n",
       "    .dataframe tbody tr th:only-of-type {\n",
       "        vertical-align: middle;\n",
       "    }\n",
       "\n",
       "    .dataframe tbody tr th {\n",
       "        vertical-align: top;\n",
       "    }\n",
       "\n",
       "    .dataframe thead th {\n",
       "        text-align: right;\n",
       "    }\n",
       "</style>\n",
       "<table border=\"1\" class=\"dataframe\">\n",
       "  <thead>\n",
       "    <tr style=\"text-align: right;\">\n",
       "      <th></th>\n",
       "      <th>Year</th>\n",
       "      <th>Month</th>\n",
       "      <th>DayofMonth</th>\n",
       "      <th>DayOfWeek</th>\n",
       "      <th>DepTime</th>\n",
       "      <th>CRSDepTime</th>\n",
       "      <th>ArrTime</th>\n",
       "      <th>CRSArrTime</th>\n",
       "      <th>UniqueCarrier</th>\n",
       "      <th>FlightNum</th>\n",
       "      <th>...</th>\n",
       "      <th>TaxiIn</th>\n",
       "      <th>TaxiOut</th>\n",
       "      <th>Cancelled</th>\n",
       "      <th>CancellationCode</th>\n",
       "      <th>Diverted</th>\n",
       "      <th>CarrierDelay</th>\n",
       "      <th>WeatherDelay</th>\n",
       "      <th>NASDelay</th>\n",
       "      <th>SecurityDelay</th>\n",
       "      <th>LateAircraftDelay</th>\n",
       "    </tr>\n",
       "  </thead>\n",
       "  <tbody>\n",
       "    <tr>\n",
       "      <th>0</th>\n",
       "      <td>2008</td>\n",
       "      <td>1</td>\n",
       "      <td>3</td>\n",
       "      <td>4</td>\n",
       "      <td>1343.0</td>\n",
       "      <td>1325</td>\n",
       "      <td>1451.0</td>\n",
       "      <td>1435</td>\n",
       "      <td>WN</td>\n",
       "      <td>588</td>\n",
       "      <td>...</td>\n",
       "      <td>4.0</td>\n",
       "      <td>9.0</td>\n",
       "      <td>0</td>\n",
       "      <td>NaN</td>\n",
       "      <td>0</td>\n",
       "      <td>16.0</td>\n",
       "      <td>0.0</td>\n",
       "      <td>0.0</td>\n",
       "      <td>0.0</td>\n",
       "      <td>0.0</td>\n",
       "    </tr>\n",
       "    <tr>\n",
       "      <th>1</th>\n",
       "      <td>2008</td>\n",
       "      <td>1</td>\n",
       "      <td>3</td>\n",
       "      <td>4</td>\n",
       "      <td>1125.0</td>\n",
       "      <td>1120</td>\n",
       "      <td>1247.0</td>\n",
       "      <td>1245</td>\n",
       "      <td>WN</td>\n",
       "      <td>1343</td>\n",
       "      <td>...</td>\n",
       "      <td>3.0</td>\n",
       "      <td>8.0</td>\n",
       "      <td>0</td>\n",
       "      <td>NaN</td>\n",
       "      <td>0</td>\n",
       "      <td>NaN</td>\n",
       "      <td>NaN</td>\n",
       "      <td>NaN</td>\n",
       "      <td>NaN</td>\n",
       "      <td>NaN</td>\n",
       "    </tr>\n",
       "    <tr>\n",
       "      <th>2</th>\n",
       "      <td>2008</td>\n",
       "      <td>1</td>\n",
       "      <td>3</td>\n",
       "      <td>4</td>\n",
       "      <td>2009.0</td>\n",
       "      <td>2015</td>\n",
       "      <td>2136.0</td>\n",
       "      <td>2140</td>\n",
       "      <td>WN</td>\n",
       "      <td>3841</td>\n",
       "      <td>...</td>\n",
       "      <td>2.0</td>\n",
       "      <td>14.0</td>\n",
       "      <td>0</td>\n",
       "      <td>NaN</td>\n",
       "      <td>0</td>\n",
       "      <td>NaN</td>\n",
       "      <td>NaN</td>\n",
       "      <td>NaN</td>\n",
       "      <td>NaN</td>\n",
       "      <td>NaN</td>\n",
       "    </tr>\n",
       "    <tr>\n",
       "      <th>3</th>\n",
       "      <td>2008</td>\n",
       "      <td>1</td>\n",
       "      <td>3</td>\n",
       "      <td>4</td>\n",
       "      <td>903.0</td>\n",
       "      <td>855</td>\n",
       "      <td>1203.0</td>\n",
       "      <td>1205</td>\n",
       "      <td>WN</td>\n",
       "      <td>3</td>\n",
       "      <td>...</td>\n",
       "      <td>5.0</td>\n",
       "      <td>7.0</td>\n",
       "      <td>0</td>\n",
       "      <td>NaN</td>\n",
       "      <td>0</td>\n",
       "      <td>NaN</td>\n",
       "      <td>NaN</td>\n",
       "      <td>NaN</td>\n",
       "      <td>NaN</td>\n",
       "      <td>NaN</td>\n",
       "    </tr>\n",
       "    <tr>\n",
       "      <th>4</th>\n",
       "      <td>2008</td>\n",
       "      <td>1</td>\n",
       "      <td>3</td>\n",
       "      <td>4</td>\n",
       "      <td>1423.0</td>\n",
       "      <td>1400</td>\n",
       "      <td>1726.0</td>\n",
       "      <td>1710</td>\n",
       "      <td>WN</td>\n",
       "      <td>25</td>\n",
       "      <td>...</td>\n",
       "      <td>6.0</td>\n",
       "      <td>10.0</td>\n",
       "      <td>0</td>\n",
       "      <td>NaN</td>\n",
       "      <td>0</td>\n",
       "      <td>16.0</td>\n",
       "      <td>0.0</td>\n",
       "      <td>0.0</td>\n",
       "      <td>0.0</td>\n",
       "      <td>0.0</td>\n",
       "    </tr>\n",
       "  </tbody>\n",
       "</table>\n",
       "<p>5 rows × 29 columns</p>\n",
       "</div>"
      ],
      "text/plain": [
       "   Year  Month  DayofMonth  DayOfWeek  DepTime  CRSDepTime  ArrTime  \\\n",
       "0  2008      1           3          4   1343.0        1325   1451.0   \n",
       "1  2008      1           3          4   1125.0        1120   1247.0   \n",
       "2  2008      1           3          4   2009.0        2015   2136.0   \n",
       "3  2008      1           3          4    903.0         855   1203.0   \n",
       "4  2008      1           3          4   1423.0        1400   1726.0   \n",
       "\n",
       "   CRSArrTime UniqueCarrier  FlightNum  ... TaxiIn  TaxiOut  Cancelled  \\\n",
       "0        1435            WN        588  ...    4.0      9.0          0   \n",
       "1        1245            WN       1343  ...    3.0      8.0          0   \n",
       "2        2140            WN       3841  ...    2.0     14.0          0   \n",
       "3        1205            WN          3  ...    5.0      7.0          0   \n",
       "4        1710            WN         25  ...    6.0     10.0          0   \n",
       "\n",
       "   CancellationCode  Diverted  CarrierDelay WeatherDelay NASDelay  \\\n",
       "0               NaN         0          16.0          0.0      0.0   \n",
       "1               NaN         0           NaN          NaN      NaN   \n",
       "2               NaN         0           NaN          NaN      NaN   \n",
       "3               NaN         0           NaN          NaN      NaN   \n",
       "4               NaN         0          16.0          0.0      0.0   \n",
       "\n",
       "   SecurityDelay  LateAircraftDelay  \n",
       "0            0.0                0.0  \n",
       "1            NaN                NaN  \n",
       "2            NaN                NaN  \n",
       "3            NaN                NaN  \n",
       "4            0.0                0.0  \n",
       "\n",
       "[5 rows x 29 columns]"
      ]
     },
     "execution_count": 2,
     "metadata": {},
     "output_type": "execute_result"
    }
   ],
   "source": [
    "df = pd.read_csv('2008.csv')\n",
    "df.head()"
   ]
  },
  {
   "cell_type": "markdown",
   "metadata": {},
   "source": [
    "> Then we load the airports dataset.It is needed to get the city and state names for the origin and destation of the flight."
   ]
  },
  {
   "cell_type": "code",
   "execution_count": 3,
   "metadata": {},
   "outputs": [
    {
     "data": {
      "text/html": [
       "<div>\n",
       "<style scoped>\n",
       "    .dataframe tbody tr th:only-of-type {\n",
       "        vertical-align: middle;\n",
       "    }\n",
       "\n",
       "    .dataframe tbody tr th {\n",
       "        vertical-align: top;\n",
       "    }\n",
       "\n",
       "    .dataframe thead th {\n",
       "        text-align: right;\n",
       "    }\n",
       "</style>\n",
       "<table border=\"1\" class=\"dataframe\">\n",
       "  <thead>\n",
       "    <tr style=\"text-align: right;\">\n",
       "      <th></th>\n",
       "      <th>iata</th>\n",
       "      <th>airport</th>\n",
       "      <th>city</th>\n",
       "      <th>state</th>\n",
       "      <th>country</th>\n",
       "      <th>lat</th>\n",
       "      <th>long</th>\n",
       "    </tr>\n",
       "  </thead>\n",
       "  <tbody>\n",
       "    <tr>\n",
       "      <th>0</th>\n",
       "      <td>00M</td>\n",
       "      <td>Thigpen</td>\n",
       "      <td>Bay Springs</td>\n",
       "      <td>MS</td>\n",
       "      <td>USA</td>\n",
       "      <td>31.953765</td>\n",
       "      <td>-89.234505</td>\n",
       "    </tr>\n",
       "    <tr>\n",
       "      <th>1</th>\n",
       "      <td>00R</td>\n",
       "      <td>Livingston Municipal</td>\n",
       "      <td>Livingston</td>\n",
       "      <td>TX</td>\n",
       "      <td>USA</td>\n",
       "      <td>30.685861</td>\n",
       "      <td>-95.017928</td>\n",
       "    </tr>\n",
       "    <tr>\n",
       "      <th>2</th>\n",
       "      <td>00V</td>\n",
       "      <td>Meadow Lake</td>\n",
       "      <td>Colorado Springs</td>\n",
       "      <td>CO</td>\n",
       "      <td>USA</td>\n",
       "      <td>38.945749</td>\n",
       "      <td>-104.569893</td>\n",
       "    </tr>\n",
       "    <tr>\n",
       "      <th>3</th>\n",
       "      <td>01G</td>\n",
       "      <td>Perry-Warsaw</td>\n",
       "      <td>Perry</td>\n",
       "      <td>NY</td>\n",
       "      <td>USA</td>\n",
       "      <td>42.741347</td>\n",
       "      <td>-78.052081</td>\n",
       "    </tr>\n",
       "    <tr>\n",
       "      <th>4</th>\n",
       "      <td>01J</td>\n",
       "      <td>Hilliard Airpark</td>\n",
       "      <td>Hilliard</td>\n",
       "      <td>FL</td>\n",
       "      <td>USA</td>\n",
       "      <td>30.688012</td>\n",
       "      <td>-81.905944</td>\n",
       "    </tr>\n",
       "  </tbody>\n",
       "</table>\n",
       "</div>"
      ],
      "text/plain": [
       "  iata               airport              city state country        lat  \\\n",
       "0  00M              Thigpen        Bay Springs    MS     USA  31.953765   \n",
       "1  00R  Livingston Municipal        Livingston    TX     USA  30.685861   \n",
       "2  00V           Meadow Lake  Colorado Springs    CO     USA  38.945749   \n",
       "3  01G          Perry-Warsaw             Perry    NY     USA  42.741347   \n",
       "4  01J      Hilliard Airpark          Hilliard    FL     USA  30.688012   \n",
       "\n",
       "         long  \n",
       "0  -89.234505  \n",
       "1  -95.017928  \n",
       "2 -104.569893  \n",
       "3  -78.052081  \n",
       "4  -81.905944  "
      ]
     },
     "execution_count": 3,
     "metadata": {},
     "output_type": "execute_result"
    }
   ],
   "source": [
    "df_airports = pd.read_csv('airports.csv')\n",
    "df_airports.head()"
   ]
  },
  {
   "cell_type": "markdown",
   "metadata": {},
   "source": [
    "> Create a dictionary to map the IATA with the city name then update the  values of origin and destination in the data frame with names instead of codes using the created dictionary."
   ]
  },
  {
   "cell_type": "code",
   "execution_count": 4,
   "metadata": {},
   "outputs": [
    {
     "data": {
      "text/plain": [
       "{'00M': 'Bay Springs',\n",
       " '00R': 'Livingston',\n",
       " '00V': 'Colorado Springs',\n",
       " '01G': 'Perry',\n",
       " '01J': 'Hilliard',\n",
       " '01M': 'Belmont',\n",
       " '02A': 'Clanton',\n",
       " '02C': 'Brookfield',\n",
       " '02G': 'East Liverpool',\n",
       " '03D': 'Memphis',\n",
       " '04M': 'Pittsboro',\n",
       " '04Y': 'Hawley',\n",
       " '05C': 'Griffith',\n",
       " '05F': 'Gatesville',\n",
       " '05U': 'Eureka',\n",
       " '06A': 'Tuskegee',\n",
       " '06C': 'Chicago/Schaumburg',\n",
       " '06D': 'Rolla',\n",
       " '06M': 'Eupora',\n",
       " '06N': 'Middletown',\n",
       " '06U': 'Jackpot',\n",
       " '07C': 'Auburn',\n",
       " '07F': 'Gladewater',\n",
       " '07G': 'Charlotte',\n",
       " '07K': 'Central City',\n",
       " '08A': 'Wetumpka',\n",
       " '08D': 'Stanley',\n",
       " '08K': 'Harvard',\n",
       " '08M': 'Carthage',\n",
       " '09A': 'Butler',\n",
       " '09J': 'Jekyll Island',\n",
       " '09K': 'Sargent',\n",
       " '09M': 'Charleston',\n",
       " '09W': 'Washington',\n",
       " '0A3': 'Smithville',\n",
       " '0A8': 'Centreville',\n",
       " '0A9': 'Elizabethton',\n",
       " '0AK': 'Pilot Station',\n",
       " '0B1': 'Bethel',\n",
       " '0B4': 'Hartington',\n",
       " '0B5': 'Montague',\n",
       " '0B7': 'Warren',\n",
       " '0B8': 'Fishers Island',\n",
       " '0C0': 'Chicago/Harvard',\n",
       " '0C4': 'Pender',\n",
       " '0D1': 'South Haven',\n",
       " '0D8': 'Gettysburg',\n",
       " '0E0': 'Moriarty',\n",
       " '0E8': 'Crownpoint',\n",
       " '0F2': 'Bowie',\n",
       " '0F4': 'Loup City',\n",
       " '0F7': 'Eufaula',\n",
       " '0F8': 'Sand Springs',\n",
       " '0F9': 'Tishomingo',\n",
       " '0G0': 'Lockport',\n",
       " '0G3': 'Tecumseh',\n",
       " '0G6': 'Bryan',\n",
       " '0G7': 'Seneca Falls',\n",
       " '0H1': 'Wakeeney',\n",
       " '0I8': 'Cynthiana',\n",
       " '0J0': 'Abbeville',\n",
       " '0J4': 'Florala',\n",
       " '0J6': 'Headland',\n",
       " '0K7': 'Humboldt',\n",
       " '0L5': 'Goldfield',\n",
       " '0L7': 'Jean',\n",
       " '0L9': 'Overton',\n",
       " '0M0': 'Dumas',\n",
       " '0M1': 'Parsons',\n",
       " '0M4': 'Camden',\n",
       " '0M5': 'Waverly',\n",
       " '0M6': 'Batesville',\n",
       " '0M8': 'Lake Providence',\n",
       " '0O3': 'San Andreas',\n",
       " '0O4': 'Corning',\n",
       " '0O5': 'Davis',\n",
       " '0Q5': 'Shelter Cove',\n",
       " '0Q6': 'Shingletown',\n",
       " '0R0': 'Columbia',\n",
       " '0R1': 'Atmore',\n",
       " '0R3': 'Abbeville',\n",
       " '0R4': 'Vidalia',\n",
       " '0R5': 'Winnfield',\n",
       " '0R7': 'Coushatta',\n",
       " '0S7': 'Oroville',\n",
       " '0S9': 'Port Townsend',\n",
       " '0V2': 'Salida',\n",
       " '0V3': 'Minden',\n",
       " '0V4': 'Brookneal',\n",
       " '0V6': 'Mission',\n",
       " '0V7': 'Kayenta',\n",
       " '10C': 'Chicago/Greenwood/Wonderlake',\n",
       " '10D': 'Winsted',\n",
       " '10G': 'Millersburg',\n",
       " '10N': 'Wallkill',\n",
       " '10U': 'Owyhee',\n",
       " '11A': 'Clayton',\n",
       " '11D': 'Clarion',\n",
       " '11IS': 'Chicago/Schaumburg',\n",
       " '11J': 'Blakely',\n",
       " '11R': 'Brenham',\n",
       " '12C': 'Rochelle',\n",
       " '12D': 'Tower',\n",
       " '12J': 'Brewton',\n",
       " '12K': 'Superior',\n",
       " '12Y': 'Le Sueur',\n",
       " '13C': 'Lakeview',\n",
       " '13K': 'Eureka',\n",
       " '13N': 'Andover',\n",
       " '14J': 'Elba',\n",
       " '14M': 'Hollandale',\n",
       " '14Y': 'Long Prairie',\n",
       " '15F': 'Haskell',\n",
       " '15J': 'Adel',\n",
       " '15M': 'Luka',\n",
       " '15Z': 'McCarthy',\n",
       " '16A': 'Nunapitchuk',\n",
       " '16G': 'Tiffin',\n",
       " '16J': 'Dawson',\n",
       " '16S': 'Myrtle Creek',\n",
       " '17G': 'Bucyrus',\n",
       " '17J': 'Donalsonville',\n",
       " '17K': 'Boise City',\n",
       " '17M': 'Magee',\n",
       " '17N': 'Cross Keys',\n",
       " '17Z': 'Manokotak',\n",
       " '18A': 'Canon',\n",
       " '18I': 'Pine Knot',\n",
       " '19A': 'Jefferson',\n",
       " '19M': 'Lexington',\n",
       " '19N': 'Berlin',\n",
       " '19P': 'Port Protection',\n",
       " '1A3': 'Copperhill',\n",
       " '1A5': 'Franklin',\n",
       " '1A6': 'Middlesboro',\n",
       " '1A7': 'Gainesboro',\n",
       " '1A9': 'Prattville',\n",
       " '1B0': 'Dexter',\n",
       " '1B1': 'Hudson',\n",
       " '1B3': 'Fair Haven',\n",
       " '1B9': 'Mansfield',\n",
       " '1C5': 'Chicago/Plainfield',\n",
       " '1D1': 'Milbank',\n",
       " '1D2': 'Plymouth',\n",
       " '1D3': 'Platte',\n",
       " '1D6': 'Hector',\n",
       " '1D7': 'Webster',\n",
       " '1D8': 'Redfield',\n",
       " '1F0': 'Ardmore',\n",
       " '1F1': 'Overbrook',\n",
       " '1F4': 'Madill',\n",
       " '1F9': 'Bridgeport',\n",
       " '1G0': 'Bowling Green',\n",
       " '1G3': 'Kent',\n",
       " '1G4': 'Peach Springs',\n",
       " '1G5': 'Medina',\n",
       " '1G6': 'Cicero',\n",
       " '1H0': 'St Louis',\n",
       " '1H2': 'Effingham',\n",
       " '1H3': 'Linn',\n",
       " '1H8': 'Casey',\n",
       " '1I5': 'Freehold',\n",
       " '1I9': 'Delphi',\n",
       " '1J0': 'Bonifay',\n",
       " '1K2': 'Lindsay',\n",
       " '1K4': 'Goldsby',\n",
       " '1K5': 'Waynoka',\n",
       " '1K9': 'Satanta',\n",
       " '1L0': 'Reserve',\n",
       " '1L1': 'Panaca',\n",
       " '1L7': 'Escalante',\n",
       " '1L9': 'Parowan',\n",
       " '1M1': 'No Lit Rock',\n",
       " '1M2': 'Belzoni',\n",
       " '1M4': 'Haleyville',\n",
       " '1M5': 'Portland',\n",
       " '1M7': 'Fulton',\n",
       " '1MO': 'Mountain Grove',\n",
       " '1N2': 'East Moriches',\n",
       " '1N4': 'Woodbine',\n",
       " '1N7': 'Blairstown',\n",
       " '1N9': 'Allentown',\n",
       " '1ND3': 'Kindred',\n",
       " '1O1': 'Grandfield',\n",
       " '1O2': 'Lakeport',\n",
       " '1O3': 'Lodi',\n",
       " '1O4': 'Thomas',\n",
       " '1O6': 'Dunsmuir',\n",
       " '1R1': 'Jena',\n",
       " '1R7': 'Brookhaven',\n",
       " '1R8': 'Bay Minette',\n",
       " '1S0': 'Puyallup',\n",
       " '1S3': 'Forsyth',\n",
       " '1S5': 'Sunnyside',\n",
       " '1S6': 'Priest River',\n",
       " '1U7': 'Paris',\n",
       " '1V0': 'Navajo Dam',\n",
       " '1V2': 'Hyannis',\n",
       " '1V5': 'Boulder',\n",
       " '1V6': 'Canon City',\n",
       " '1V9': 'Delta',\n",
       " '20A': 'Oneonta',\n",
       " '20M': 'Macon',\n",
       " '20N': 'Kingston',\n",
       " '20U': 'Beach',\n",
       " '20V': 'Kremmling',\n",
       " '21D': 'St Paul',\n",
       " '21F': 'Jacksboro',\n",
       " '22B': 'Burlington',\n",
       " '22I': 'McArthur',\n",
       " '22M': 'Pontotoc',\n",
       " '22N': 'Lehighton',\n",
       " '23J': 'Jacksonville',\n",
       " '23M': 'Quitman',\n",
       " '23N': 'Bayport',\n",
       " '23R': 'Devine',\n",
       " '24A': 'Sylva',\n",
       " '24J': 'Live Oak',\n",
       " '24N': 'Dulce',\n",
       " '25J': 'Cuthbert',\n",
       " '25M': 'Ripley',\n",
       " '25R': 'Edinburg',\n",
       " '26A': 'Ashland/Lineville',\n",
       " '26N': 'Ocean City',\n",
       " '26R': 'Edna/Ganado',\n",
       " '26U': 'McDermitt',\n",
       " '27A': 'Elberton',\n",
       " '27D': 'Canby',\n",
       " '27J': 'Newberry',\n",
       " '27K': 'Georgetown',\n",
       " '28J': 'Palatka',\n",
       " '29D': 'Grove City',\n",
       " '29G': 'Ravenna',\n",
       " '29S': 'Gardiner',\n",
       " '2A0': 'Dayton',\n",
       " '2A1': 'Jamestown',\n",
       " '2A3': 'Larsen Bay',\n",
       " '2A9': 'Kotlik',\n",
       " '2AK': 'Lime Village',\n",
       " '2B3': 'Newport',\n",
       " '2B7': 'Pittsfield',\n",
       " '2B9': 'Post Mills',\n",
       " '2D1': 'Alliance',\n",
       " '2D5': 'Oakes',\n",
       " '2F5': 'Lamesa',\n",
       " '2F6': 'Skiatook',\n",
       " '2F7': 'Commerce',\n",
       " '2F8': 'Bastrop',\n",
       " '2G2': 'Steubenville',\n",
       " '2G3': 'Connellsville',\n",
       " '2G4': 'Oakland',\n",
       " '2G9': 'Somerset',\n",
       " '2H0': 'Shelbyville',\n",
       " '2H2': 'Aurora',\n",
       " '2I0': 'Madisonville',\n",
       " '2I5': 'Rantoul',\n",
       " '2IS': 'Clewiston',\n",
       " '2J2': 'Hinesville',\n",
       " '2J3': 'Louisville',\n",
       " '2J5': 'Millen',\n",
       " '2J9': 'Quincy',\n",
       " '2K3': 'Johnson',\n",
       " '2K4': 'Mangum',\n",
       " '2K5': 'Telida',\n",
       " '2M0': 'Princeton',\n",
       " '2M2': 'Lawrenceburg',\n",
       " '2M3': 'Sallisaw',\n",
       " '2M4': 'Forest',\n",
       " '2M8': 'Millington',\n",
       " '2O1': 'Quincy',\n",
       " '2O3': 'Angwin',\n",
       " '2O6': 'Chowchilla',\n",
       " '2O7': 'Independence',\n",
       " '2O8': 'Hinton',\n",
       " '2P2': 'Washington Island',\n",
       " '2Q3': 'Davis/Woodland/Winters',\n",
       " '2R0': 'Waynesboro',\n",
       " '2R4': 'Milton',\n",
       " '2R5': 'St Elmo',\n",
       " '2R9': 'Kenedy',\n",
       " '2S1': 'Vashon',\n",
       " '2S6': 'Newberg',\n",
       " '2S7': 'Chiloquin',\n",
       " '2S8': 'Wilbur',\n",
       " '2T1': 'Muleshoe',\n",
       " '2V1': 'Pagosa Springs',\n",
       " '2V2': 'Longmont',\n",
       " '2V5': 'Wray',\n",
       " '2V6': 'Yuma',\n",
       " '2W5': 'Indian Head',\n",
       " '2W6': 'Leonardtown',\n",
       " '2Y3': 'Yakutat',\n",
       " '2Y4': 'Rockwell City',\n",
       " '31F': 'Seminole',\n",
       " '32M': 'Norfolk',\n",
       " '32S': 'Stevensville',\n",
       " '33J': 'Geneva',\n",
       " '33M': 'Water Valley',\n",
       " '33N': 'Dover',\n",
       " '33S': 'Ritzville',\n",
       " '34A': 'Laurens',\n",
       " '35A': 'Union',\n",
       " '35D': 'Allegan',\n",
       " '35S': 'Wasco',\n",
       " '36K': 'Lakin',\n",
       " '36S': 'Happy Camp',\n",
       " '36U': 'Heber',\n",
       " '37T': 'Calico Rock',\n",
       " '37W': 'Erwin',\n",
       " '38A': 'Shaktoolik',\n",
       " '38S': 'Deer Lodge',\n",
       " '38U': 'Loa',\n",
       " '39N': 'Princeton',\n",
       " '3A0': 'Grove Hill',\n",
       " '3A1': 'Cullman',\n",
       " '3A2': 'Tazewell',\n",
       " '3A3': 'Wadesboro',\n",
       " '3AU': 'Augusta',\n",
       " '3B0': 'Southbridge',\n",
       " '3B1': 'Greenville',\n",
       " '3B2': 'Marshfield',\n",
       " '3B9': 'Chester',\n",
       " '3BS': 'Midland',\n",
       " '3CK': 'Lake In The Hills',\n",
       " '3CM': 'Bay City',\n",
       " '3CU': 'Cable',\n",
       " '3D2': 'Ephraim',\n",
       " '3D4': 'Frankfort',\n",
       " '3F3': 'Mansfield',\n",
       " '3F4': 'Vivian',\n",
       " '3F7': 'Bristow',\n",
       " '3FM': 'Fremont',\n",
       " '3FU': 'Faulkton',\n",
       " '3G3': 'Wadsworth',\n",
       " '3G4': 'Ashland',\n",
       " '3G7': 'Williamson',\n",
       " '3GM': 'Grand Haven',\n",
       " '3I2': 'Point Pleasant',\n",
       " '3I7': 'Phillipsburg',\n",
       " '3J1': 'Ridgeland',\n",
       " '3J7': 'Greensboro',\n",
       " '3JC': 'Junction City',\n",
       " '3K3': 'Syracuse',\n",
       " '3K6': 'Troy/Marine/St. Louis',\n",
       " '3K7': 'Leoti',\n",
       " '3LC': 'Lincoln',\n",
       " '3LF': 'Litchfield',\n",
       " '3M7': 'Lafayette',\n",
       " '3M8': 'Reform',\n",
       " '3M9': 'Warren',\n",
       " '3MY': 'Peoria',\n",
       " '3N6': 'Old Bridge',\n",
       " '3N8': 'Mahnomen',\n",
       " '3ND0': 'Northwood',\n",
       " '3O1': 'Gustine',\n",
       " '3O3': 'Purcell',\n",
       " '3O4': 'Sayre',\n",
       " '3O5': 'Walters',\n",
       " '3O7': 'Hollister',\n",
       " '3O9': 'Afton',\n",
       " '3R0': 'Beeville',\n",
       " '3R1': 'Bay City',\n",
       " '3R2': 'Crowley',\n",
       " '3R4': 'Many',\n",
       " '3R7': 'Jennings',\n",
       " '3S4': 'Illinois Valley (Cave Junction)',\n",
       " '3S8': 'Grants Pass',\n",
       " '3S9': 'Condon',\n",
       " '3SG': 'Saginaw - H.Browne',\n",
       " '3SQ': 'St Charles',\n",
       " '3T3': 'Boyceville',\n",
       " '3T5': 'La Grange',\n",
       " '3TR': 'Niles',\n",
       " '3U3': 'Anaconda',\n",
       " '3U7': 'Benchmark',\n",
       " '3U8': 'Big Sandy',\n",
       " '3V4': 'Fort Morgan',\n",
       " '3WO': 'Shawano',\n",
       " '3Y2': 'West Union',\n",
       " '3Y3': 'Winterset',\n",
       " '3Z9': 'Haines',\n",
       " '40J': 'Perry',\n",
       " '40N': 'Coatesville',\n",
       " '40U': 'Manila',\n",
       " '41U': 'Manti',\n",
       " '42A': 'Melbourne',\n",
       " '42C': 'White Cloud',\n",
       " '42J': 'Keystone Heights',\n",
       " '42S': 'Poplar',\n",
       " '43A': 'Star',\n",
       " '44B': 'Dover-Foxcroft',\n",
       " '44N': 'Millbrook',\n",
       " '45J': 'Rockingham',\n",
       " '45OH': 'North Bass Island',\n",
       " '45R': 'Kountze/Silsbee',\n",
       " '46A': 'Blairsville',\n",
       " '46D': 'Carrington',\n",
       " '46N': 'Red Hook',\n",
       " '47A': 'Canton',\n",
       " '47J': 'Cheraw',\n",
       " '47N': 'Manville',\n",
       " '47V': 'Curtis',\n",
       " '48A': 'Cochran',\n",
       " '48D': 'Clare',\n",
       " '48I': 'Sutton',\n",
       " '48K': 'Ness City',\n",
       " '48S': 'Harlem',\n",
       " '48V': 'Erie',\n",
       " '49A': 'Ellijay',\n",
       " '49T': 'Dallas',\n",
       " '49X': 'Chemehuevi Valley',\n",
       " '49Y': 'Preston',\n",
       " '4A2': 'Atmautluak',\n",
       " '4A4': 'Cedartown',\n",
       " '4A5': 'Marshall',\n",
       " '4A6': 'Scottsboro',\n",
       " '4A7': 'Hampton',\n",
       " '4A9': 'Fort Payne',\n",
       " '4B0': 'South Bethlehem',\n",
       " '4B1': 'Duanesburg',\n",
       " '4B6': 'Ticonderoga',\n",
       " '4B7': 'Schroon Lake',\n",
       " '4B8': 'Plainville',\n",
       " '4B9': 'Simsbury',\n",
       " '4C8': 'Albia',\n",
       " '4D0': 'Grandledge',\n",
       " '4D9': 'Alma',\n",
       " '4F2': 'Carthage',\n",
       " '4F4': 'Gilmer',\n",
       " '4G1': 'Greenville',\n",
       " '4G2': 'Hamburg',\n",
       " '4G5': 'Woodsfield',\n",
       " '4G6': 'Hornell',\n",
       " '4G7': 'Fairmont',\n",
       " '4I0': 'Williamson',\n",
       " '4I3': 'Mount Vernon',\n",
       " '4I7': 'Greencastle',\n",
       " '4I9': 'Mt. Gilead',\n",
       " '4J1': 'Nahunta',\n",
       " '4J2': 'Nashville',\n",
       " '4J5': 'Quitman',\n",
       " '4J6': 'St Marys',\n",
       " '4K0': 'Pedro Bay',\n",
       " '4K5': 'Ouzinkie',\n",
       " '4K6': 'Bloomfield',\n",
       " '4KA': 'Tununak',\n",
       " '4M1': 'Berryville',\n",
       " '4M3': 'Carlisle',\n",
       " '4M4': 'Clinton',\n",
       " '4M7': 'Russellville',\n",
       " '4M8': 'Clarendon',\n",
       " '4M9': 'Corning',\n",
       " '4N1': 'West Milford',\n",
       " '4O3': 'Blackwell-Tonkawa',\n",
       " '4O4': 'Idabel',\n",
       " '4O5': 'Cherokee',\n",
       " '4PH': 'Polacca',\n",
       " '4R1': 'Lumberton',\n",
       " '4R3': 'Jackson',\n",
       " '4R4': 'Fairhope',\n",
       " '4R5': 'La Pointe',\n",
       " '4R7': 'Eunice',\n",
       " '4R9': 'Dauphin Island',\n",
       " '4S1': 'Gold Beach',\n",
       " '4S2': 'Hood River',\n",
       " '4S3': 'Joseph',\n",
       " '4S9': 'Mulino (Portland)',\n",
       " '4SD': 'Reno',\n",
       " '4T6': 'Midlothian-Waxahachie',\n",
       " '4U3': 'Chester',\n",
       " '4U6': 'Circle',\n",
       " '4V0': 'Rangely',\n",
       " '4V1': 'Walsenburg',\n",
       " '4V9': 'Neligh',\n",
       " '4W1': 'Elizabethtown',\n",
       " '4Z4': 'Holy Cross',\n",
       " '4Z7': 'Hyder',\n",
       " '50I': 'Kentland',\n",
       " '50J': 'Moncks Corner',\n",
       " '50K': 'Pawnee City',\n",
       " '50R': 'Lockhart',\n",
       " '51D': 'Edgeley',\n",
       " '51Z': 'Minto',\n",
       " '52A': 'Madison',\n",
       " '52E': 'Timberon',\n",
       " '52J': 'Bishopville',\n",
       " '53A': 'Montezuma',\n",
       " '53K': 'Osage City',\n",
       " '54J': 'Defuniak Springs',\n",
       " '55D': 'Grayling',\n",
       " '55J': 'Fernandina Beach',\n",
       " '55S': 'Packwood',\n",
       " '56D': 'Upper Sandusky',\n",
       " '56M': 'Warsaw',\n",
       " '56S': 'Seaside',\n",
       " '57B': 'Islesboro',\n",
       " '57C': 'East Troy',\n",
       " '59B': 'Jackman',\n",
       " '5A4': 'Okolona',\n",
       " '5A6': 'Winona',\n",
       " '5A8': 'Aleknagik',\n",
       " '5A9': 'Warm Springs',\n",
       " '5B2': 'Saratoga Springs',\n",
       " '5B3': 'Danielson',\n",
       " '5B7': 'Troy',\n",
       " '5CD': 'Chandalar Camp',\n",
       " '5D3': 'Owosso',\n",
       " '5F1': 'Post',\n",
       " '5F4': 'Homer',\n",
       " '5G0': 'Le Roy',\n",
       " '5G7': 'Bluffton',\n",
       " '5G8': 'Jeanette',\n",
       " '5G9': 'Lambertville',\n",
       " '5HO': 'Hope',\n",
       " '5I4': 'Sheridan',\n",
       " '5J0': 'John Day',\n",
       " '5J9': 'Loris',\n",
       " '5K2': 'Tribune',\n",
       " '5M0': 'Hartselle',\n",
       " '5M1': 'De Witt',\n",
       " '5M4': 'Fordyce',\n",
       " '5M9': 'Marion',\n",
       " '5N8': 'Casselton',\n",
       " '5ND6': 'Hillsboro',\n",
       " '5NI': 'Nikolai',\n",
       " '5NK': 'Naknek',\n",
       " '5NN': 'Nondalton',\n",
       " '5R3': 'Lago Vista',\n",
       " '5R4': 'Foley',\n",
       " '5R5': 'Wharton',\n",
       " '5R8': 'De Quincy',\n",
       " '5S8': 'St. Michael',\n",
       " '5T5': 'Hillsboro',\n",
       " '5T6': 'Santa Teresa',\n",
       " '5T9': 'Eagle Pass',\n",
       " '5TE': 'Tetlin',\n",
       " '5U3': 'Ennis',\n",
       " '5U8': 'Geraldine',\n",
       " '5V5': 'Shiprock',\n",
       " '5V8': 'Kadoka',\n",
       " '5W8': 'Siler City',\n",
       " '5Z1': 'Juneau',\n",
       " '5Z5': 'Kantishna',\n",
       " '60F': 'Seymour',\n",
       " '60J': 'Ocean Isle Beach',\n",
       " '61A': 'Camden',\n",
       " '61B': 'Boulder City',\n",
       " '61C': 'Fort Atkinson',\n",
       " '61J': 'Portland',\n",
       " '61S': 'Cottage Grove',\n",
       " '62D': 'Warren',\n",
       " '62H': 'Giddings',\n",
       " '62S': 'Christmas Valley',\n",
       " '63A': 'Petersburg',\n",
       " '63C': 'Adams/Friendship',\n",
       " '63S': 'Colville',\n",
       " '65J': 'Wrens',\n",
       " '65S': 'Bonners Ferry',\n",
       " '66D': 'Sturgis',\n",
       " '67L': 'Mesquite',\n",
       " '68A': 'Wrangell',\n",
       " '68S': 'Davenport',\n",
       " '6A1': 'Butler',\n",
       " '6A2': 'Griffin',\n",
       " '6A3': 'Andrews',\n",
       " '6A4': 'Mountain City',\n",
       " '6A8': 'Allakaket',\n",
       " '6B0': 'Middlebury',\n",
       " '6B4': 'Utica/Frankfort',\n",
       " '6B6': 'Stow',\n",
       " '6B8': 'Lyndonville',\n",
       " '6B9': 'Skaneateles',\n",
       " '6D6': 'Greenville',\n",
       " '6D8': 'Valley City',\n",
       " '6F1': 'Talihina',\n",
       " '6G1': 'Titusville',\n",
       " '6G5': 'Barnesville',\n",
       " '6I2': 'Springfield',\n",
       " '6J0': 'Pelion',\n",
       " '6J2': 'St George',\n",
       " '6J4': 'Saluda',\n",
       " '6K3': 'Creighton',\n",
       " '6K4': 'Fairview',\n",
       " '6K8': 'Tok',\n",
       " '6L4': 'Logan',\n",
       " '6M2': 'Horseshoe Bend',\n",
       " '6M6': 'Monticello',\n",
       " '6M7': 'Marianna',\n",
       " '6M8': 'Marked Tree',\n",
       " '6N5': 'New York',\n",
       " '6N7': 'New York',\n",
       " '6N8': 'Thedford',\n",
       " '6R3': 'Cleveland',\n",
       " '6R7': 'Old Harbor',\n",
       " '6R9': 'Llano',\n",
       " '6S0': 'Big Timber',\n",
       " '6S2': 'Florence',\n",
       " '6S3': 'Columbus',\n",
       " '6S5': 'Hamilton',\n",
       " '6S8': 'Laurel',\n",
       " '6V0': 'Edgemont',\n",
       " '6V3': 'Richlands',\n",
       " '6V4': 'Wall',\n",
       " '6V6': 'Nucla',\n",
       " '70J': 'Cairo',\n",
       " '71J': 'Ozark',\n",
       " '72S': 'Rosalia',\n",
       " '73C': 'Lancaster',\n",
       " '73J': 'Beaufort',\n",
       " '74D': 'Moundsville',\n",
       " '74S': 'Anacortes',\n",
       " '74V': 'Roosevelt',\n",
       " '75J': 'Ashburn',\n",
       " '76G': 'Marine City',\n",
       " '77G': 'Marlette',\n",
       " '77S': 'Creswell',\n",
       " '78D': 'Caro',\n",
       " '79D': 'Philippi',\n",
       " '79J': 'Andalusia',\n",
       " '79S': 'Fort Benton',\n",
       " '7A0': 'Greensboro',\n",
       " '7A2': 'Demopolis',\n",
       " '7A3': 'Lanett',\n",
       " '7A5': 'Roanoke',\n",
       " '7A8': 'Spruce Pine',\n",
       " '7B2': 'Northampton',\n",
       " '7D2': 'Troy',\n",
       " '7F3': 'Caddo Mills',\n",
       " '7F6': 'Clarksville',\n",
       " '7F7': 'Clifton',\n",
       " '7F9': 'Comanche',\n",
       " '7G0': 'Brockport',\n",
       " '7G8': 'Middlefield',\n",
       " '7I7': 'Bellefontaine',\n",
       " '7K0': 'Pikeville',\n",
       " '7K2': 'Skagway',\n",
       " '7K4': 'Hartford',\n",
       " '7K8': 'South Sioux City',\n",
       " '7KA': 'Tatitlek',\n",
       " '7M1': 'McGehee',\n",
       " '7M3': 'Mount Ida',\n",
       " '7M4': 'Osceola',\n",
       " '7M5': 'Ozark',\n",
       " '7M7': 'Piggott',\n",
       " '7N0': 'New Orleans',\n",
       " '7N1': 'Corning',\n",
       " '7N7': 'Pedrictown',\n",
       " '7S0': 'Ronan',\n",
       " '7S1': 'Twin Bridges',\n",
       " '7S5': 'Independence',\n",
       " '7S6': 'White Sulphur Springs',\n",
       " '7S7': 'Valier',\n",
       " '7V1': 'Buena Vista',\n",
       " '7V7': 'Red Cloud',\n",
       " '7W6': 'Englehard',\n",
       " '80F': 'Antlers',\n",
       " '81B': 'Norway',\n",
       " '82C': 'New Lisbon',\n",
       " '82V': 'Pine Bluffs',\n",
       " '83D': 'St Ignace',\n",
       " '84D': 'Eagle Butte',\n",
       " '84K': 'Meyers Chuck',\n",
       " '84R': 'Smithville',\n",
       " '85V': 'Ganado',\n",
       " '86F': 'Carnegie',\n",
       " '87I': 'Yazoo City',\n",
       " '87Y': 'Madison',\n",
       " '88C': 'Palmyra',\n",
       " '88J': 'Allendale',\n",
       " '88M': 'Eureka',\n",
       " '89D': 'Kelleys Island',\n",
       " '8A0': 'Albertville',\n",
       " '8A1': 'Guntersville',\n",
       " '8A3': 'Livingston',\n",
       " '8B0': 'Rangeley',\n",
       " '8D1': 'New Holstein',\n",
       " '8D3': 'Sisseton',\n",
       " '8D4': 'Sparta',\n",
       " '8D7': 'Clark',\n",
       " '8D9': 'Howard',\n",
       " '8F7': 'Decatur',\n",
       " '8G2': 'Corry',\n",
       " '8G6': 'Cadiz',\n",
       " '8G7': 'Zelienople',\n",
       " '8K8': 'Cimarron',\n",
       " '8K9': 'Ketchikan',\n",
       " '8M1': 'Booneville',\n",
       " '8S1': 'Polson',\n",
       " '8S2': 'Cashmere',\n",
       " '8S5': 'Mt Pleasant',\n",
       " '8U6': 'Terry',\n",
       " '8U8': 'Townsend',\n",
       " '8V2': 'Atkinson',\n",
       " '8Y2': 'Buffalo',\n",
       " '91C': 'Prairie Du Sac',\n",
       " '91F': 'Canadian',\n",
       " '93B': 'Stonington',\n",
       " '93C': 'Richland Center',\n",
       " '93F': 'Cheyenne',\n",
       " '93Y': 'David City',\n",
       " '94K': 'Cassville',\n",
       " '95F': 'Cleveland',\n",
       " '96D': 'Walhalla',\n",
       " '96Z': 'North Whale Pass',\n",
       " '97M': 'Ekalaka',\n",
       " '98D': 'Onida',\n",
       " '99N': 'Bamburg',\n",
       " '99Y': 'Greeley',\n",
       " '9A1': 'Covington',\n",
       " '9A3': 'Chuathbaluk',\n",
       " '9A4': 'Courtland',\n",
       " '9A5': 'LaFayette',\n",
       " '9A6': 'Chester',\n",
       " '9A8': 'Ugashik',\n",
       " '9C8': 'Evart',\n",
       " '9D0': 'Highmore',\n",
       " '9D1': 'Gregory',\n",
       " '9D2': 'Buffalo',\n",
       " '9D7': 'Cando',\n",
       " '9D9': 'Hastings',\n",
       " '9G0': 'Buffalo',\n",
       " '9G1': 'Tarentum',\n",
       " '9G3': 'Akron',\n",
       " '9G5': 'Gasport',\n",
       " '9G8': 'Ebensburg',\n",
       " '9I0': 'Havana',\n",
       " '9I3': 'West Liberty',\n",
       " '9K2': 'Kokhanok',\n",
       " '9K4': 'Warrensburg',\n",
       " '9K7': 'Ellsworth',\n",
       " '9K8': 'Kingman',\n",
       " '9M4': 'Ackerman',\n",
       " '9M6': 'Oak Grove',\n",
       " '9M8': 'Sheridan',\n",
       " '9S2': 'Scobey',\n",
       " '9S4': 'Superior',\n",
       " '9S5': 'Three Forks',\n",
       " '9S7': 'Winifred',\n",
       " '9S9': 'Lexington',\n",
       " '9U0': 'Turner',\n",
       " '9U3': 'Austin',\n",
       " '9U4': 'Dixon',\n",
       " '9V5': 'Rushville',\n",
       " '9V6': 'Martin',\n",
       " '9V9': 'Chamberlain',\n",
       " '9W7': 'Currituck',\n",
       " 'A04': 'Centre',\n",
       " 'A14': 'Portage Creek',\n",
       " 'A29': 'Sitka',\n",
       " 'A30': 'Fort Jones',\n",
       " 'A32': 'Dorris',\n",
       " 'A61': 'Tuntutuliak',\n",
       " 'A63': 'Twin Hills',\n",
       " 'A79': 'Chignik Lake',\n",
       " 'A85': 'Kwigillingok',\n",
       " 'AAF': 'Apalachicola',\n",
       " 'AAO': 'Wichita',\n",
       " 'AAS': 'Cambellsville',\n",
       " 'AAT': 'Alturas',\n",
       " 'ABE': 'Allentown',\n",
       " 'ABI': 'Abilene',\n",
       " 'ABO': 'Arecibo',\n",
       " 'ABQ': 'Albuquerque',\n",
       " 'ABR': 'Aberdeen',\n",
       " 'ABY': 'Albany',\n",
       " 'ACB': 'Bellaire',\n",
       " 'ACJ': 'Americus',\n",
       " 'ACK': 'Nantucket',\n",
       " 'ACQ': 'Waseca',\n",
       " 'ACT': 'Waco',\n",
       " 'ACV': 'Arcata/Eureka',\n",
       " 'ACY': 'Atlantic City',\n",
       " 'ACZ': 'Wallace',\n",
       " 'ADC': 'Wadena',\n",
       " 'ADG': 'Adrian',\n",
       " 'ADH': 'Ada',\n",
       " 'ADK': 'Adak',\n",
       " 'ADM': 'Ardmore',\n",
       " 'ADQ': 'Kodiak',\n",
       " 'ADS': 'Dallas/Addison',\n",
       " 'ADT': 'Atwood',\n",
       " 'ADU': 'Audubon',\n",
       " 'AEG': 'Albuquerque',\n",
       " 'AEL': 'Albert Lea',\n",
       " 'AEX': 'Alexandria',\n",
       " 'AFE': 'Kake',\n",
       " 'AFJ': 'Washington',\n",
       " 'AFK': 'Nebraska City',\n",
       " 'AFM': 'Ambler',\n",
       " 'AFN': 'Jaffrey',\n",
       " 'AFO': 'Afton',\n",
       " 'AFW': 'Fort Worth',\n",
       " 'AGC': 'Pittsburgh',\n",
       " 'AGN': 'Angoon',\n",
       " 'AGO': 'Magnolia',\n",
       " 'AGS': 'Augusta',\n",
       " 'AGZ': 'Wagner',\n",
       " 'AHH': 'Amery',\n",
       " 'AHN': 'Athens',\n",
       " 'AHP': 'Port Alexander',\n",
       " 'AHQ': 'Wahoo',\n",
       " 'AIA': 'Alliance',\n",
       " 'AID': 'Anderson',\n",
       " 'AIG': 'Antigo',\n",
       " 'AIK': 'Aiken',\n",
       " 'AIO': 'Atlantic',\n",
       " 'AIT': 'Aitkin',\n",
       " 'AIV': 'Aliceville',\n",
       " 'AIY': 'Atlantic City',\n",
       " 'AIZ': 'Kaiser/Lake Ozark',\n",
       " 'AJC': 'Chignik',\n",
       " 'AJG': 'Mt Carmel',\n",
       " 'AJO': 'Corona',\n",
       " 'AJR': 'Cornelia',\n",
       " 'AK5': 'Perryville',\n",
       " 'AKA': 'Atka',\n",
       " 'AKH': 'Gastonia',\n",
       " 'AKI': 'Akiak',\n",
       " 'AKK': 'Akhiok',\n",
       " 'AKN': 'King Salmon',\n",
       " 'AKO': 'Akron',\n",
       " 'AKP': 'Anaktuvuk Pass',\n",
       " 'AKR': 'Akron',\n",
       " 'AKW': 'Klawock',\n",
       " 'AL08': 'Marion',\n",
       " 'ALB': 'Albany',\n",
       " 'ALI': 'Alice',\n",
       " 'ALM': 'Alamogordo',\n",
       " 'ALN': 'Alton/St. Louis',\n",
       " 'ALO': 'Waterloo',\n",
       " 'ALS': 'Alamosa',\n",
       " 'ALW': 'Walla Walla',\n",
       " 'ALX': 'Alexander City',\n",
       " 'AMA': 'Amarillo',\n",
       " 'AMG': 'Alma',\n",
       " 'AMN': 'Alma',\n",
       " 'AMT': 'West Union',\n",
       " 'AMW': 'Ames',\n",
       " 'ANB': 'Anniston',\n",
       " 'ANC': 'Anchorage',\n",
       " 'AND': 'Anderson',\n",
       " 'ANE': 'Minneapolis',\n",
       " 'ANI': 'Aniak',\n",
       " 'ANQ': 'Angola',\n",
       " 'ANV': 'Anvik',\n",
       " 'ANW': 'Ainsworth',\n",
       " 'ANY': 'Anthony',\n",
       " 'AOC': 'Arco',\n",
       " 'AOH': 'Lima',\n",
       " 'AOO': 'Altoona',\n",
       " 'APA': 'Denver',\n",
       " 'APC': 'Napa',\n",
       " 'APF': 'Naples',\n",
       " 'APN': 'Alpena',\n",
       " 'APT': 'Jasper',\n",
       " 'APV': 'Apple Valley',\n",
       " 'AQC': 'Klawock',\n",
       " 'AQH': 'Quinhagak',\n",
       " 'AQT': 'Nuiqsut',\n",
       " 'AQW': 'North Adams',\n",
       " 'AQY': 'Girdwood',\n",
       " 'ARA': 'New Iberia',\n",
       " 'ARB': 'Ann Arbor',\n",
       " 'ARC': 'Arctic Village',\n",
       " 'ARG': 'Walnut Ridge',\n",
       " 'ARR': 'Chicago/Aurora',\n",
       " 'ART': 'Watertown',\n",
       " 'ARV': 'Minocqua-Woodruff',\n",
       " 'ASD': 'Slidell',\n",
       " 'ASE': 'Aspen',\n",
       " 'ASG': 'Springdale',\n",
       " 'ASH': 'Nashua',\n",
       " 'ASJ': 'Ahoskie',\n",
       " 'ASL': 'Marshall',\n",
       " 'ASN': 'Talladega',\n",
       " 'AST': 'Astoria',\n",
       " 'ASW': 'Warsaw',\n",
       " 'ASX': 'Ashland',\n",
       " 'ATA': 'Atlanta',\n",
       " 'ATK': 'Atqasuk',\n",
       " 'ATL': 'Atlanta',\n",
       " 'ATS': 'Artesia',\n",
       " 'ATW': 'Appleton',\n",
       " 'ATY': 'Watertown',\n",
       " 'AUG': 'Augusta',\n",
       " 'AUH': 'Aurora',\n",
       " 'AUK': 'Alakanuk',\n",
       " 'AUM': 'Austin',\n",
       " 'AUN': 'Auburn',\n",
       " 'AUO': 'Auburn',\n",
       " 'AUS': 'Austin',\n",
       " 'AUW': 'Wausau',\n",
       " 'AVC': 'South Hill',\n",
       " 'AVK': 'Alva',\n",
       " 'AVL': 'Asheville',\n",
       " 'AVO': 'Avon Park',\n",
       " 'AVP': 'Wilkes-Barre/Scranton',\n",
       " 'AVQ': 'Marana',\n",
       " 'AVX': 'Avalon',\n",
       " 'AWG': 'Washington',\n",
       " 'AWI': 'Wainwright',\n",
       " 'AWM': 'West Memphis',\n",
       " 'AWO': 'Arlington',\n",
       " 'AXA': 'Algona',\n",
       " 'AXN': 'Alexandria',\n",
       " 'AXS': 'Altus',\n",
       " 'AXV': 'Wapakoneta',\n",
       " 'AXX': 'Angel Fire',\n",
       " 'AYS': 'Waycross',\n",
       " 'AZC': 'Colorado City',\n",
       " 'AZE': 'Hazelhurst',\n",
       " 'AZO': 'Kalamazoo',\n",
       " 'B01': 'Granville',\n",
       " 'B08': 'Silver Springs',\n",
       " 'B16': 'Weedsport',\n",
       " 'B19': 'Biddeford',\n",
       " 'B21': 'Carrabasset',\n",
       " 'BAF': 'Westfield',\n",
       " 'BAK': 'Columbus',\n",
       " 'BAM': 'Battle Mountain',\n",
       " 'BAX': 'Bad Axe',\n",
       " 'BAZ': 'New Braunfels',\n",
       " 'BBB': 'Benson',\n",
       " 'BBD': 'Brady',\n",
       " 'BBP': 'Bennettsville',\n",
       " 'BBW': 'Broken Bow',\n",
       " 'BCB': 'Blacksburg',\n",
       " 'BCE': 'Bryce Canyon',\n",
       " 'BCK': 'Black River Falls',\n",
       " 'BCT': 'Boca Raton',\n",
       " 'BCV': 'Birchwood',\n",
       " 'BDE': 'Baudette',\n",
       " 'BDG': 'Blanding',\n",
       " 'BDL': 'Windsor Locks',\n",
       " 'BDQ': 'Morrilton',\n",
       " 'BDR': 'Bridgeport',\n",
       " 'BDX': 'Broadus',\n",
       " 'BED': 'Bedford',\n",
       " 'BEH': 'Benton Harbor',\n",
       " 'BET': 'Bethel',\n",
       " 'BFD': 'Bradford',\n",
       " 'BFF': 'Scottsbluff',\n",
       " 'BFI': 'Seattle',\n",
       " 'BFK': 'Buffalo',\n",
       " 'BFL': 'Bakersfield',\n",
       " 'BFM': 'Mobile',\n",
       " 'BFR': 'Bedford',\n",
       " 'BFW': 'Silver Bay',\n",
       " 'BGD': 'Borger',\n",
       " 'BGE': 'Bainbridge',\n",
       " 'BGF': 'Winchester',\n",
       " 'BGM': 'Binghamton',\n",
       " 'BGQ': 'Big Lake',\n",
       " 'BGR': 'Bangor',\n",
       " 'BHB': 'Bar Harbor',\n",
       " 'BHC': 'Baxley',\n",
       " 'BHK': 'Baker City',\n",
       " 'BHM': 'Birmingham',\n",
       " 'BID': 'Block Island',\n",
       " 'BIE': 'Beatrice',\n",
       " 'BIG': 'Delta Junction',\n",
       " 'BIH': 'Bishop',\n",
       " 'BIL': 'Billings',\n",
       " 'BIS': 'Bismarck',\n",
       " 'BIV': 'Holland',\n",
       " 'BJC': 'Denver',\n",
       " 'BJI': 'Bemidji',\n",
       " 'BJJ': 'Wooster',\n",
       " 'BKD': 'Breckenridge',\n",
       " 'BKE': 'Baker City',\n",
       " 'BKL': 'Cleveland',\n",
       " 'BKV': 'Brooksville',\n",
       " 'BKW': 'Beckley',\n",
       " 'BKX': 'Brookings',\n",
       " 'BLF': 'Bluefield',\n",
       " 'BLH': 'Blythe',\n",
       " 'BLI': 'Bellingham',\n",
       " 'BLM': 'Belmar/Farmingdale',\n",
       " 'BLV': 'Belleville/St. Louis',\n",
       " 'BMC': 'Brigham City',\n",
       " 'BMG': 'Bloomington',\n",
       " 'BMI': 'Bloomington',\n",
       " 'BML': 'Berlin',\n",
       " 'BMQ': 'Burnet',\n",
       " 'BMT': 'Beaumont',\n",
       " 'BNA': 'Nashville',\n",
       " 'BNF': 'Baranof Warm Springs',\n",
       " 'BNG': 'Banning',\n",
       " 'BNL': 'Barnwell',\n",
       " 'BNO': 'Burns',\n",
       " 'BNW': 'Boone',\n",
       " 'BOI': 'Boise',\n",
       " 'BOK': 'Brookings',\n",
       " 'BOS': 'Boston',\n",
       " 'BOW': 'Bartow',\n",
       " 'BPI': 'Big Piney',\n",
       " 'BPK': 'Mountain Home',\n",
       " 'BPT': 'Beaumont/Port Arthur',\n",
       " 'BQK': 'Brunswick',\n",
       " 'BQN': 'Aguadilla',\n",
       " ...}"
      ]
     },
     "execution_count": 4,
     "metadata": {},
     "output_type": "execute_result"
    }
   ],
   "source": [
    "#create a pandas series using the 2 columns and convert it to dictionary\n",
    "code_city = pd.Series(df_airports.city.values,index=df_airports.iata).to_dict()\n",
    "code_city"
   ]
  },
  {
   "cell_type": "code",
   "execution_count": 5,
   "metadata": {},
   "outputs": [],
   "source": [
    "#change source and distantion with city names\n",
    "df['Origin'] = df['Origin'].replace(code_city)\n",
    "df['Dest'] = df['Dest'].replace(code_city)"
   ]
  },
  {
   "cell_type": "code",
   "execution_count": 6,
   "metadata": {},
   "outputs": [
    {
     "data": {
      "text/plain": [
       "array([1, 2, 3, 4], dtype=int64)"
      ]
     },
     "execution_count": 6,
     "metadata": {},
     "output_type": "execute_result"
    }
   ],
   "source": [
    "#check for months and week days in the dataset\n",
    "df['Month'].unique()"
   ]
  },
  {
   "cell_type": "code",
   "execution_count": 7,
   "metadata": {},
   "outputs": [
    {
     "data": {
      "text/plain": [
       "array([4, 5, 6, 7, 1, 2, 3], dtype=int64)"
      ]
     },
     "execution_count": 7,
     "metadata": {},
     "output_type": "execute_result"
    }
   ],
   "source": [
    "df['DayOfWeek'].unique()"
   ]
  },
  {
   "cell_type": "code",
   "execution_count": 8,
   "metadata": {},
   "outputs": [],
   "source": [
    "#map with name of months and days  instead of their numbers\n",
    "dict_month = {1:'January',2:'February',3:'March',4:'April'}\n",
    "dict_day = {1:'Monday',2:'Tuesday',3:'Wednesday',4:'Thursday',5:'Friday',6:'Saturday',7:'Sunday'}"
   ]
  },
  {
   "cell_type": "code",
   "execution_count": 9,
   "metadata": {},
   "outputs": [],
   "source": [
    "df['Month'] = df['Month'].replace(dict_month)\n",
    "df['DayOfWeek'] = df['DayOfWeek'].replace(dict_day)"
   ]
  },
  {
   "cell_type": "code",
   "execution_count": 10,
   "metadata": {},
   "outputs": [
    {
     "data": {
      "text/plain": [
       "(2389217, 29)"
      ]
     },
     "execution_count": 10,
     "metadata": {},
     "output_type": "execute_result"
    }
   ],
   "source": [
    "df.shape"
   ]
  },
  {
   "cell_type": "code",
   "execution_count": 11,
   "metadata": {},
   "outputs": [
    {
     "data": {
      "text/plain": [
       "Index(['Year', 'Month', 'DayofMonth', 'DayOfWeek', 'DepTime', 'CRSDepTime',\n",
       "       'ArrTime', 'CRSArrTime', 'UniqueCarrier', 'FlightNum', 'TailNum',\n",
       "       'ActualElapsedTime', 'CRSElapsedTime', 'AirTime', 'ArrDelay',\n",
       "       'DepDelay', 'Origin', 'Dest', 'Distance', 'TaxiIn', 'TaxiOut',\n",
       "       'Cancelled', 'CancellationCode', 'Diverted', 'CarrierDelay',\n",
       "       'WeatherDelay', 'NASDelay', 'SecurityDelay', 'LateAircraftDelay'],\n",
       "      dtype='object')"
      ]
     },
     "execution_count": 11,
     "metadata": {},
     "output_type": "execute_result"
    }
   ],
   "source": [
    "df.columns"
   ]
  },
  {
   "cell_type": "code",
   "execution_count": 12,
   "metadata": {},
   "outputs": [
    {
     "data": {
      "text/plain": [
       "False    2389213\n",
       "True           4\n",
       "dtype: int64"
      ]
     },
     "execution_count": 12,
     "metadata": {},
     "output_type": "execute_result"
    }
   ],
   "source": [
    "#check for duplicates\n",
    "df.duplicated().value_counts()"
   ]
  },
  {
   "cell_type": "code",
   "execution_count": 13,
   "metadata": {},
   "outputs": [
    {
     "data": {
      "text/plain": [
       "False    2389213\n",
       "dtype: int64"
      ]
     },
     "execution_count": 13,
     "metadata": {},
     "output_type": "execute_result"
    }
   ],
   "source": [
    "df.drop_duplicates(inplace = True)\n",
    "df.duplicated().value_counts()"
   ]
  },
  {
   "cell_type": "code",
   "execution_count": 14,
   "metadata": {
    "scrolled": true
   },
   "outputs": [
    {
     "name": "stdout",
     "output_type": "stream",
     "text": [
      "<class 'pandas.core.frame.DataFrame'>\n",
      "Int64Index: 2389213 entries, 0 to 2389216\n",
      "Data columns (total 29 columns):\n",
      " #   Column             Dtype  \n",
      "---  ------             -----  \n",
      " 0   Year               int64  \n",
      " 1   Month              object \n",
      " 2   DayofMonth         int64  \n",
      " 3   DayOfWeek          object \n",
      " 4   DepTime            float64\n",
      " 5   CRSDepTime         int64  \n",
      " 6   ArrTime            float64\n",
      " 7   CRSArrTime         int64  \n",
      " 8   UniqueCarrier      object \n",
      " 9   FlightNum          int64  \n",
      " 10  TailNum            object \n",
      " 11  ActualElapsedTime  float64\n",
      " 12  CRSElapsedTime     float64\n",
      " 13  AirTime            float64\n",
      " 14  ArrDelay           float64\n",
      " 15  DepDelay           float64\n",
      " 16  Origin             object \n",
      " 17  Dest               object \n",
      " 18  Distance           int64  \n",
      " 19  TaxiIn             float64\n",
      " 20  TaxiOut            float64\n",
      " 21  Cancelled          int64  \n",
      " 22  CancellationCode   object \n",
      " 23  Diverted           int64  \n",
      " 24  CarrierDelay       float64\n",
      " 25  WeatherDelay       float64\n",
      " 26  NASDelay           float64\n",
      " 27  SecurityDelay      float64\n",
      " 28  LateAircraftDelay  float64\n",
      "dtypes: float64(14), int64(8), object(7)\n",
      "memory usage: 546.8+ MB\n"
     ]
    }
   ],
   "source": [
    "#check data types\n",
    "df.info()"
   ]
  },
  {
   "cell_type": "code",
   "execution_count": 15,
   "metadata": {
    "scrolled": false
   },
   "outputs": [
    {
     "data": {
      "text/plain": [
       "Year                       0\n",
       "Month                      0\n",
       "DayofMonth                 0\n",
       "DayOfWeek                  0\n",
       "DepTime                64442\n",
       "CRSDepTime                 0\n",
       "ArrTime                70096\n",
       "CRSArrTime                 0\n",
       "UniqueCarrier              0\n",
       "FlightNum                  0\n",
       "TailNum                42452\n",
       "ActualElapsedTime      70096\n",
       "CRSElapsedTime           407\n",
       "AirTime                70096\n",
       "ArrDelay               70096\n",
       "DepDelay               64442\n",
       "Origin                  1691\n",
       "Dest                    1691\n",
       "Distance                   0\n",
       "TaxiIn                 70096\n",
       "TaxiOut                64442\n",
       "Cancelled                  0\n",
       "CancellationCode     2324771\n",
       "Diverted                   0\n",
       "CarrierDelay         1804632\n",
       "WeatherDelay         1804632\n",
       "NASDelay             1804632\n",
       "SecurityDelay        1804632\n",
       "LateAircraftDelay    1804632\n",
       "dtype: int64"
      ]
     },
     "execution_count": 15,
     "metadata": {},
     "output_type": "execute_result"
    }
   ],
   "source": [
    "#check null values for each column in the data set\n",
    "df.isnull().sum()"
   ]
  },
  {
   "cell_type": "code",
   "execution_count": 16,
   "metadata": {},
   "outputs": [],
   "source": [
    "#create a df with the columns we are intersted in studying\n",
    "df = df[['Month','DayOfWeek','ArrDelay','DepDelay','Distance','Cancelled','Origin','Dest']].copy()"
   ]
  },
  {
   "cell_type": "code",
   "execution_count": 17,
   "metadata": {},
   "outputs": [],
   "source": [
    "#from the selected columns ArrDelay, DepDelay , origin and dest have null \n",
    "#so we first will replace the null values in the depdelay and arrdelay with the mean value\n",
    "df['ArrDelay']=df['ArrDelay'].replace(np.nan,df['ArrDelay'].mean())\n",
    "df['DepDelay']=df['DepDelay'].replace(np.nan,df['DepDelay'].mean())"
   ]
  },
  {
   "cell_type": "code",
   "execution_count": 18,
   "metadata": {},
   "outputs": [
    {
     "data": {
      "text/plain": [
       "Month           0\n",
       "DayOfWeek       0\n",
       "ArrDelay        0\n",
       "DepDelay        0\n",
       "Distance        0\n",
       "Cancelled       0\n",
       "Origin       1691\n",
       "Dest         1691\n",
       "dtype: int64"
      ]
     },
     "execution_count": 18,
     "metadata": {},
     "output_type": "execute_result"
    }
   ],
   "source": [
    "df.isnull().sum()"
   ]
  },
  {
   "cell_type": "code",
   "execution_count": 19,
   "metadata": {},
   "outputs": [],
   "source": [
    "#then we will drop the rows with missing origin and dest values to get rid of all nans in the df\n",
    "df.dropna(inplace=True)"
   ]
  },
  {
   "cell_type": "code",
   "execution_count": 20,
   "metadata": {
    "scrolled": true
   },
   "outputs": [
    {
     "data": {
      "text/plain": [
       "Month        0\n",
       "DayOfWeek    0\n",
       "ArrDelay     0\n",
       "DepDelay     0\n",
       "Distance     0\n",
       "Cancelled    0\n",
       "Origin       0\n",
       "Dest         0\n",
       "dtype: int64"
      ]
     },
     "execution_count": 20,
     "metadata": {},
     "output_type": "execute_result"
    }
   ],
   "source": [
    "df.isnull().sum()"
   ]
  },
  {
   "cell_type": "code",
   "execution_count": 21,
   "metadata": {},
   "outputs": [
    {
     "data": {
      "text/plain": [
       "(2385831, 8)"
      ]
     },
     "execution_count": 21,
     "metadata": {},
     "output_type": "execute_result"
    }
   ],
   "source": [
    "df.shape"
   ]
  },
  {
   "cell_type": "markdown",
   "metadata": {},
   "source": [
    "### What is the structure of your dataset?\n",
    "\n",
    "> The original dataset after removing duplicates contains 2389213 entry and 29 features and the modified dataset with the concerned feautres and null values removed contains 2385831 entry and 8 feautres.\n",
    "\n",
    "### What is/are the main feature(s) of interest in your dataset?\n",
    "\n",
    "> Main helpful feauters are the feauters related to flights' delay,cancelation,date and destianion of the delayed or cancelled flight.\n",
    "\n",
    "### What features in the dataset do you think will help support your investigation into your feature(s) of interest?\n",
    "\n",
    "> Month, DayOfWeek, ArrDelay, DepDelay, Origin, Dest, Cancelled and Distance."
   ]
  },
  {
   "cell_type": "markdown",
   "metadata": {},
   "source": [
    "## Univariate Exploration\n",
    "\n",
    "> Exploring the number of flights during each month"
   ]
  },
  {
   "cell_type": "code",
   "execution_count": 22,
   "metadata": {
    "scrolled": true
   },
   "outputs": [
    {
     "data": {
      "image/png": "[encoded data removed]",
      "text/plain": [
       "<Figure size 432x288 with 1 Axes>"
      ]
     },
     "metadata": {
      "needs_background": "light"
     },
     "output_type": "display_data"
    }
   ],
   "source": [
    "month_counts = df['Month'].value_counts()\n",
    "month_order = month_counts.index\n",
    "base_color = sb.color_palette()[0]\n",
    "sb.countplot(data=df, x='Month', color=base_color,order=month_order);"
   ]
  },
  {
   "cell_type": "markdown",
   "metadata": {},
   "source": [
    "> There are small diffrences between the number of flights during each month with March recording highest flight numbers and February recording the smallest number of flights.\n",
    "\n",
    ">Next we will the number of flights for each day of the week"
   ]
  },
  {
   "cell_type": "code",
   "execution_count": 23,
   "metadata": {
    "scrolled": true
   },
   "outputs": [
    {
     "data": {
      "image/png": "[encoded data removed]",
      "text/plain": [
       "<Figure size 432x288 with 1 Axes>"
      ]
     },
     "metadata": {
      "needs_background": "light"
     },
     "output_type": "display_data"
    }
   ],
   "source": [
    "day_counts = df['DayOfWeek'].value_counts()\n",
    "day_order = day_counts.index\n",
    "base_color = sb.color_palette()[0]\n",
    "sb.countplot(data=df, y='DayOfWeek', color=base_color,order=day_order);"
   ]
  },
  {
   "cell_type": "markdown",
   "metadata": {},
   "source": [
    ">From the above plot we see that Saturday recorded lowest number of flights during the year we also noticed a small decrease in flight numbers during weekend VS week days.\n",
    "\n",
    "> Next we will see the percentage of cancelled flights during the year."
   ]
  },
  {
   "cell_type": "code",
   "execution_count": 24,
   "metadata": {},
   "outputs": [
    {
     "data": {
      "image/png": "[encoded data removed]",
      "text/plain": [
       "<Figure size 432x288 with 1 Axes>"
      ]
     },
     "metadata": {},
     "output_type": "display_data"
    }
   ],
   "source": [
    "sorted_counts = df.Cancelled.value_counts()\n",
    "sorted_counts.index = ['completed','Cancelled']\n",
    "plt.pie(sorted_counts, labels = sorted_counts.index, startangle = 90, counterclock = False, autopct='%.2f%%');"
   ]
  },
  {
   "cell_type": "markdown",
   "metadata": {},
   "source": [
    "> We see that in 2008 only 2.7% of flights were cancelled\n",
    "\n",
    ">Next we will explore the origin and destination cities"
   ]
  },
  {
   "cell_type": "code",
   "execution_count": 25,
   "metadata": {
    "scrolled": true
   },
   "outputs": [
    {
     "data": {
      "image/png": "[encoded data removed]",
      "text/plain": [
       "<Figure size 504x360 with 1 Axes>"
      ]
     },
     "metadata": {
      "needs_background": "light"
     },
     "output_type": "display_data"
    }
   ],
   "source": [
    "origin_counts = df['Origin'].value_counts()[0:20].sort_values()\n",
    "origin_counts.plot(x = origin_counts.values , y = origin_counts.index , kind ='barh' ,figsize = (7,5));"
   ]
  },
  {
   "cell_type": "markdown",
   "metadata": {},
   "source": [
    ">we can see that Chigaco was the origin for most flights this year with more than 140000 flights departed from it.\n",
    "\n",
    ">Next we will explore the distenation cities."
   ]
  },
  {
   "cell_type": "code",
   "execution_count": 26,
   "metadata": {
    "scrolled": false
   },
   "outputs": [
    {
     "data": {
      "image/png": "[encoded data removed]",
      "text/plain": [
       "<Figure size 504x360 with 1 Axes>"
      ]
     },
     "metadata": {
      "needs_background": "light"
     },
     "output_type": "display_data"
    }
   ],
   "source": [
    "dest_counts = df['Dest'].value_counts()[0:20].sort_values()\n",
    "dest_counts.plot(x = dest_counts.values , y = dest_counts.index , kind ='barh' ,figsize = (7,5));"
   ]
  },
  {
   "cell_type": "markdown",
   "metadata": {},
   "source": [
    "> From the above plot Chicago is also the most city with flight destination\n",
    ">plotting the histogram of the arrival delays in minutes"
   ]
  },
  {
   "cell_type": "code",
   "execution_count": 27,
   "metadata": {
    "scrolled": false
   },
   "outputs": [
    {
     "data": {
      "image/png": "[encoded data removed]",
      "text/plain": [
       "<Figure size 720x360 with 1 Axes>"
      ]
     },
     "metadata": {
      "needs_background": "light"
     },
     "output_type": "display_data"
    }
   ],
   "source": [
    "bins = np.arange(df['ArrDelay'].min()-5, df['ArrDelay'].max()+5, 5)\n",
    "plt.figure(figsize=(10,5))\n",
    "plt.hist(data = df, x = 'ArrDelay', bins = bins);\n",
    "plt.xlim(-60,250);"
   ]
  },
  {
   "cell_type": "code",
   "execution_count": 28,
   "metadata": {},
   "outputs": [
    {
     "data": {
      "text/plain": [
       "2461.0"
      ]
     },
     "execution_count": 28,
     "metadata": {},
     "output_type": "execute_result"
    }
   ],
   "source": [
    "df['ArrDelay'].max()"
   ]
  },
  {
   "cell_type": "markdown",
   "metadata": {},
   "source": [
    "> as seen from the above histogram most of the arrival delays ranges from -30 to +30 minutes but there are outliers that reached 2461 minutes nearly a day.\n",
    "> we limited the x axis to range from -60 to 250 as the effect of the outlier will make the plot unclear.\n",
    "\n",
    "> Next we will do the same for the departure delay"
   ]
  },
  {
   "cell_type": "code",
   "execution_count": 29,
   "metadata": {
    "scrolled": true
   },
   "outputs": [
    {
     "data": {
      "image/png": "[encoded data removed]",
      "text/plain": [
       "<Figure size 720x360 with 1 Axes>"
      ]
     },
     "metadata": {
      "needs_background": "light"
     },
     "output_type": "display_data"
    }
   ],
   "source": [
    "bins = np.arange(df['DepDelay'].min()-2, df['DepDelay'].max()+2, 2)\n",
    "plt.figure(figsize=(10,5))\n",
    "plt.hist(data = df, x = 'DepDelay', bins = bins);\n",
    "plt.xlim(-25,80);"
   ]
  },
  {
   "cell_type": "code",
   "execution_count": 30,
   "metadata": {},
   "outputs": [
    {
     "data": {
      "text/plain": [
       "2467.0"
      ]
     },
     "execution_count": 30,
     "metadata": {},
     "output_type": "execute_result"
    }
   ],
   "source": [
    " df['DepDelay'].max()"
   ]
  },
  {
   "cell_type": "markdown",
   "metadata": {},
   "source": [
    "> as seen from the above histogram most of the depareture delays ranges from -15 to +20 minutes but there are outliers that reached 2467 minutes nearly a day.\n",
    "> we limited the x axis to range from -25 to 80 as the effect of the outlier will make the plot unclear.\n",
    "\n",
    ">Finally we will explore the distances."
   ]
  },
  {
   "cell_type": "code",
   "execution_count": 31,
   "metadata": {
    "scrolled": true
   },
   "outputs": [
    {
     "data": {
      "image/png": "[encoded data removed]",
      "text/plain": [
       "<Figure size 720x360 with 1 Axes>"
      ]
     },
     "metadata": {
      "needs_background": "light"
     },
     "output_type": "display_data"
    }
   ],
   "source": [
    "bins = np.arange(0, df['Distance'].max()+100, 100)\n",
    "plt.figure(figsize=(10,5))\n",
    "plt.hist(data = df, x = 'Distance', bins = bins);\n",
    "plt.xlim(0,3000);"
   ]
  },
  {
   "cell_type": "code",
   "execution_count": 32,
   "metadata": {},
   "outputs": [
    {
     "data": {
      "text/plain": [
       "4962"
      ]
     },
     "execution_count": 32,
     "metadata": {},
     "output_type": "execute_result"
    }
   ],
   "source": [
    "df['Distance'].max()"
   ]
  },
  {
   "cell_type": "markdown",
   "metadata": {},
   "source": [
    "> as seen from the above histogram most of the flight distances ranges from 100 to 1000 miles but there are outliers that reached 5000 miles.\n",
    "> we limited the x axis to range from 0 to 3000 as the effect of the outlier will make the plot unclear."
   ]
  },
  {
   "cell_type": "markdown",
   "metadata": {},
   "source": [
    "## Bivariate Exploration\n",
    "\n",
    "> At we first we plot the quantitive data scatter plot against each other."
   ]
  },
  {
   "cell_type": "code",
   "execution_count": 33,
   "metadata": {},
   "outputs": [
    {
     "data": {
      "image/png": "[encoded data removed]",
      "text/plain": [
       "<Figure size 540x540 with 12 Axes>"
      ]
     },
     "metadata": {
      "needs_background": "light"
     },
     "output_type": "display_data"
    }
   ],
   "source": [
    "g = sb.PairGrid(data = df, vars = ['ArrDelay', 'DepDelay', 'Distance']);\n",
    "g.map_diag(plt.hist);\n",
    "g.map_offdiag(plt.scatter);"
   ]
  },
  {
   "cell_type": "markdown",
   "metadata": {},
   "source": [
    "> as seen from the above plot there is a hight positive corellation between the departure delay and the arrival delay which makes sense.\n",
    ">There is no clear relation between the distance, arrival delay, departure delay.\n",
    "\n",
    ">Next we will explore the relation between the arrival delay, departure delay and day of week, month"
   ]
  },
  {
   "cell_type": "code",
   "execution_count": 34,
   "metadata": {},
   "outputs": [
    {
     "data": {
      "image/png": "[encoded data removed]",
      "text/plain": [
       "<Figure size 1080x288 with 2 Axes>"
      ]
     },
     "metadata": {
      "needs_background": "light"
     },
     "output_type": "display_data"
    }
   ],
   "source": [
    "plt.figure(figsize=[15,4])\n",
    "plt.subplot(1,2,1)\n",
    "sb.violinplot(data=df, y='DepDelay', x='Month', color=base_color);\n",
    "\n",
    "plt.subplot(1,2,2)\n",
    "sb.violinplot(data=df, y='ArrDelay', x='Month', color=base_color);"
   ]
  },
  {
   "cell_type": "markdown",
   "metadata": {},
   "source": [
    "> as seen from the above plots Februray and April  encountered more delays than the rest of months due to oultiers\n",
    "\n",
    ">the below graphs shows more insights"
   ]
  },
  {
   "cell_type": "code",
   "execution_count": 35,
   "metadata": {
    "scrolled": true
   },
   "outputs": [
    {
     "data": {
      "image/png": "[encoded data removed]",
      "text/plain": [
       "<Figure size 864x216 with 4 Axes>"
      ]
     },
     "metadata": {
      "needs_background": "light"
     },
     "output_type": "display_data"
    }
   ],
   "source": [
    "sb.displot(df, x=\"DepDelay\", col=\"Month\",binwidth=3, height=3, facet_kws=dict(margin_titles=True));\n",
    "plt.xlim(-30,100);"
   ]
  },
  {
   "cell_type": "code",
   "execution_count": 36,
   "metadata": {
    "scrolled": true
   },
   "outputs": [
    {
     "data": {
      "image/png": "[encoded data removed]",
      "text/plain": [
       "<Figure size 864x216 with 4 Axes>"
      ]
     },
     "metadata": {
      "needs_background": "light"
     },
     "output_type": "display_data"
    }
   ],
   "source": [
    "sb.displot(df, x=\"ArrDelay\", col=\"Month\",binwidth=3, height=3, facet_kws=dict(margin_titles=True));\n",
    "plt.xlim(-30,100);"
   ]
  },
  {
   "cell_type": "markdown",
   "metadata": {},
   "source": [
    "> After viewing the above histograms we can see that in most cases the arrival and departure delay for each month are nearly the same this is only true when neglect the effect of the outliers."
   ]
  },
  {
   "cell_type": "code",
   "execution_count": 37,
   "metadata": {
    "scrolled": true
   },
   "outputs": [
    {
     "data": {
      "image/png": "[encoded data removed]",
      "text/plain": [
       "<Figure size 1080x288 with 2 Axes>"
      ]
     },
     "metadata": {
      "needs_background": "light"
     },
     "output_type": "display_data"
    }
   ],
   "source": [
    "plt.figure(figsize=[15,4])\n",
    "plt.subplot(1,2,1)\n",
    "sb.violinplot(data=df, y='DepDelay', x='DayOfWeek', color=base_color);\n",
    "\n",
    "plt.subplot(1,2,2)\n",
    "sb.violinplot(data=df, y='ArrDelay', x='DayOfWeek', color=base_color);"
   ]
  },
  {
   "cell_type": "markdown",
   "metadata": {},
   "source": [
    "> Both Thursday and Sunday have more delays than the rest of week days\n",
    "\n",
    "> Next we will see the histogram for each day on its own."
   ]
  },
  {
   "cell_type": "code",
   "execution_count": 38,
   "metadata": {},
   "outputs": [
    {
     "data": {
      "image/png": "[encoded data removed]",
      "text/plain": [
       "<Figure size 864x432 with 7 Axes>"
      ]
     },
     "metadata": {
      "needs_background": "light"
     },
     "output_type": "display_data"
    }
   ],
   "source": [
    "sb.displot(df, x=\"DepDelay\", col=\"DayOfWeek\",binwidth=3, height=3,col_wrap=4, facet_kws=dict(margin_titles=True));\n",
    "plt.xlim(-30,100);"
   ]
  },
  {
   "cell_type": "code",
   "execution_count": 39,
   "metadata": {},
   "outputs": [
    {
     "data": {
      "image/png": "[encoded data removed]",
      "text/plain": [
       "<Figure size 864x432 with 7 Axes>"
      ]
     },
     "metadata": {
      "needs_background": "light"
     },
     "output_type": "display_data"
    }
   ],
   "source": [
    "sb.displot(df, x=\"ArrDelay\", col=\"DayOfWeek\",binwidth=3, height=3,col_wrap=4, facet_kws=dict(margin_titles=True));\n",
    "plt.xlim(-50,100);"
   ]
  },
  {
   "cell_type": "markdown",
   "metadata": {},
   "source": [
    "> After viewing the above histograms we can see that in most cases the arrival and departure delay for each is the same when neglecting the effect of the outliers\n",
    "\n",
    ">for further investigation next we will plot each month vs only the value of the average arrival and departure delay."
   ]
  },
  {
   "cell_type": "code",
   "execution_count": 40,
   "metadata": {
    "scrolled": false
   },
   "outputs": [
    {
     "data": {
      "image/png": "[encoded data removed]",
      "text/plain": [
       "<Figure size 1080x288 with 2 Axes>"
      ]
     },
     "metadata": {
      "needs_background": "light"
     },
     "output_type": "display_data"
    }
   ],
   "source": [
    "plt.figure(figsize=[15,4])\n",
    "plt.subplot(1,2,1)\n",
    "sb.pointplot(data=df, x='Month', y='DepDelay', color=base_color);\n",
    "\n",
    "plt.subplot(1,2,2)\n",
    "sb.pointplot(data=df, x='Month', y='ArrDelay', color=base_color);"
   ]
  },
  {
   "cell_type": "code",
   "execution_count": 41,
   "metadata": {},
   "outputs": [
    {
     "data": {
      "image/png": "[encoded data removed]",
      "text/plain": [
       "<Figure size 1080x288 with 2 Axes>"
      ]
     },
     "metadata": {
      "needs_background": "light"
     },
     "output_type": "display_data"
    }
   ],
   "source": [
    "plt.figure(figsize=[15,4])\n",
    "plt.subplot(1,2,1)\n",
    "sb.pointplot(data=df, x='DayOfWeek', y='DepDelay', color=base_color);\n",
    "\n",
    "plt.subplot(1,2,2)\n",
    "sb.pointplot(data=df, x='DayOfWeek', y='ArrDelay', color=base_color);"
   ]
  },
  {
   "cell_type": "markdown",
   "metadata": {},
   "source": [
    "> Next we will explore the origin and destination cities wiht the most arrival and departure delays"
   ]
  },
  {
   "cell_type": "code",
   "execution_count": 55,
   "metadata": {},
   "outputs": [
    {
     "name": "stdout",
     "output_type": "stream",
     "text": [
      "Origin\n",
      "Pellston         31.927267\n",
      "Hancock          26.665060\n",
      "Crescent City    23.370592\n",
      "Key West         21.701450\n",
      "South Bend       21.249613\n",
      "King Salmon      20.500000\n",
      "Chicago          20.397486\n",
      "Mosinee          19.916571\n",
      "Gunnison         19.752491\n",
      "Name: DepDelay, dtype: float64\n",
      "Origin\n",
      "Pellston            33.560069\n",
      "Crescent City       24.544707\n",
      "Hancock             24.459217\n",
      "Gillette            24.073684\n",
      "Key West            22.285803\n",
      "Gunnison            22.067502\n",
      "Champaign/Urbana    21.601059\n",
      "Springfield         20.733448\n",
      "South Bend          20.727193\n",
      "Name: ArrDelay, dtype: float64\n"
     ]
    }
   ],
   "source": [
    "#group the df by origin city then calculate the mean of its arr and dep delay  \n",
    "mean_dep_delay = df.groupby('Origin')['DepDelay'].mean().sort_values(ascending=False)[0:9]\n",
    "mean_arr_delay = df.groupby('Origin')['ArrDelay'].mean().sort_values(ascending=False)[0:9]\n",
    "print(mean_dep_delay)\n",
    "print(mean_arr_delay)"
   ]
  },
  {
   "cell_type": "markdown",
   "metadata": {},
   "source": [
    "> Plotting the top 10 cities with the most delays"
   ]
  },
  {
   "cell_type": "code",
   "execution_count": 56,
   "metadata": {},
   "outputs": [
    {
     "data": {
      "image/png": "[encoded data removed]",
      "text/plain": [
       "<Figure size 720x432 with 2 Axes>"
      ]
     },
     "metadata": {
      "needs_background": "light"
     },
     "output_type": "display_data"
    }
   ],
   "source": [
    "plt.figure(figsize=[10,6])\n",
    "plt.subplot(2,1,1)\n",
    "sb.barplot(y=mean_dep_delay.index, x=mean_dep_delay.values, color=base_color);\n",
    "\n",
    "plt.subplot(2,1,2)\n",
    "sb.barplot(y=mean_arr_delay.index, x=mean_arr_delay.values, color=base_color);"
   ]
  },
  {
   "cell_type": "markdown",
   "metadata": {},
   "source": [
    "> Next we will do the same for the destination city"
   ]
  },
  {
   "cell_type": "code",
   "execution_count": 57,
   "metadata": {},
   "outputs": [
    {
     "name": "stdout",
     "output_type": "stream",
     "text": [
      "Dest\n",
      "Key West                 24.932833\n",
      "Champaign/Urbana         24.655161\n",
      "Mosinee                  23.896642\n",
      "Newark                   22.808438\n",
      "Dillingham               20.500000\n",
      "Wilkes-Barre/Scranton    20.250386\n",
      "Chicago                  18.941078\n",
      "Hancock                  18.864459\n",
      "Harrisburg               18.605795\n",
      "Name: DepDelay, dtype: float64\n",
      "Dest\n",
      "Champaign/Urbana    24.393790\n",
      "Key West            23.753638\n",
      "Mosinee             23.613367\n",
      "Dillingham          20.000000\n",
      "Newark              19.185842\n",
      "Chicago             18.917670\n",
      "Salem               18.528889\n",
      "Traverse City       18.454352\n",
      "San Francisco       17.338559\n",
      "Name: ArrDelay, dtype: float64\n"
     ]
    }
   ],
   "source": [
    "mean_dep_delay = df.groupby('Dest')['DepDelay'].mean().sort_values(ascending=False)[0:9]\n",
    "mean_arr_delay = df.groupby('Dest')['ArrDelay'].mean().sort_values(ascending=False)[0:9]\n",
    "print(mean_dep_delay)\n",
    "print(mean_arr_delay)"
   ]
  },
  {
   "cell_type": "code",
   "execution_count": 58,
   "metadata": {},
   "outputs": [
    {
     "data": {
      "image/png": "[encoded data removed]",
      "text/plain": [
       "<Figure size 720x432 with 2 Axes>"
      ]
     },
     "metadata": {
      "needs_background": "light"
     },
     "output_type": "display_data"
    }
   ],
   "source": [
    "plt.figure(figsize=[10,6])\n",
    "plt.subplot(2,1,1)\n",
    "sb.barplot(y=mean_dep_delay.index, x=mean_dep_delay.values, color=base_color);\n",
    "\n",
    "plt.subplot(2,1,2)\n",
    "sb.barplot(y=mean_arr_delay.index, x=mean_arr_delay.values, color=base_color);"
   ]
  },
  {
   "cell_type": "markdown",
   "metadata": {},
   "source": [
    "> Now we will explore the months with most cancelled flights"
   ]
  },
  {
   "cell_type": "code",
   "execution_count": 60,
   "metadata": {},
   "outputs": [
    {
     "data": {
      "text/plain": [
       "Month\n",
       "February    0.036161\n",
       "January     0.028497\n",
       "March       0.026264\n",
       "April       0.017308\n",
       "Name: Cancelled, dtype: float64"
      ]
     },
     "execution_count": 60,
     "metadata": {},
     "output_type": "execute_result"
    }
   ],
   "source": [
    "#group by month and caluculate the percentage of cancelled flights for each month\n",
    "cancelled_month = df.groupby('Month')['Cancelled'].mean().sort_values(ascending=False)\n",
    "cancelled_month"
   ]
  },
  {
   "cell_type": "code",
   "execution_count": 64,
   "metadata": {
    "scrolled": true
   },
   "outputs": [
    {
     "data": {
      "image/png": "[encoded data removed]",
      "text/plain": [
       "<Figure size 432x288 with 1 Axes>"
      ]
     },
     "metadata": {
      "needs_background": "light"
     },
     "output_type": "display_data"
    }
   ],
   "source": [
    "sb.barplot(x=cancelled_month.index, y=cancelled_month.values*100, color=base_color);"
   ]
  },
  {
   "cell_type": "markdown",
   "metadata": {},
   "source": [
    "> Februray had the highest percentage of cancelled flights.\n",
    "\n",
    ">next we will do the same for week days"
   ]
  },
  {
   "cell_type": "code",
   "execution_count": 66,
   "metadata": {
    "scrolled": true
   },
   "outputs": [
    {
     "data": {
      "text/plain": [
       "DayOfWeek\n",
       "Tuesday      0.032953\n",
       "Friday       0.032938\n",
       "Wednesday    0.028346\n",
       "Monday       0.027237\n",
       "Thursday     0.025244\n",
       "Saturday     0.021427\n",
       "Sunday       0.018768\n",
       "Name: Cancelled, dtype: float64"
      ]
     },
     "execution_count": 66,
     "metadata": {},
     "output_type": "execute_result"
    }
   ],
   "source": [
    "day_cancelled = df.groupby('DayOfWeek')['Cancelled'].mean().sort_values(ascending=False)\n",
    "day_cancelled"
   ]
  },
  {
   "cell_type": "code",
   "execution_count": 67,
   "metadata": {},
   "outputs": [
    {
     "data": {
      "image/png": "[encoded data removed]",
      "text/plain": [
       "<Figure size 432x288 with 1 Axes>"
      ]
     },
     "metadata": {
      "needs_background": "light"
     },
     "output_type": "display_data"
    }
   ],
   "source": [
    "sb.barplot(x=day_cancelled.index, y=day_cancelled.values*100, color=base_color);"
   ]
  },
  {
   "cell_type": "markdown",
   "metadata": {},
   "source": [
    "> Tuesday and Friday have the highest percentage of cancelled flights\n",
    "\n",
    "> Next we will explore origin and destination citites with the highest percentage of cancelled flights"
   ]
  },
  {
   "cell_type": "code",
   "execution_count": 72,
   "metadata": {},
   "outputs": [
    {
     "data": {
      "text/plain": [
       "Origin\n",
       "Pellston       0.315789\n",
       "Waterloo       0.250000\n",
       "Telluride      0.210843\n",
       "Hancock        0.198347\n",
       "Rhinelander    0.156250\n",
       "Kalamazoo      0.130790\n",
       "Hailey         0.129032\n",
       "Aspen          0.126382\n",
       "Dubuque        0.119914\n",
       "Mosinee        0.117308\n",
       "Name: Cancelled, dtype: float64"
      ]
     },
     "execution_count": 72,
     "metadata": {},
     "output_type": "execute_result"
    }
   ],
   "source": [
    "#group by origin country, calculate the percentage then select the top 11 cities with the highest percentage\n",
    "origin_cancelled = df.groupby('Origin')['Cancelled'].mean().sort_values(ascending=False)[0:10]\n",
    "origin_cancelled"
   ]
  },
  {
   "cell_type": "code",
   "execution_count": 73,
   "metadata": {
    "scrolled": true
   },
   "outputs": [
    {
     "data": {
      "image/png": "[encoded data removed]",
      "text/plain": [
       "<Figure size 432x288 with 1 Axes>"
      ]
     },
     "metadata": {
      "needs_background": "light"
     },
     "output_type": "display_data"
    }
   ],
   "source": [
    "sb.barplot(y=origin_cancelled.index, x=origin_cancelled.values*100, color=base_color);"
   ]
  },
  {
   "cell_type": "code",
   "execution_count": 74,
   "metadata": {},
   "outputs": [],
   "source": [
    "#doing the same for the destination cities\n",
    "dest_cancelled = df.groupby('Dest')['Cancelled'].mean().sort_values(ascending=False)[0:10]"
   ]
  },
  {
   "cell_type": "code",
   "execution_count": 75,
   "metadata": {
    "scrolled": true
   },
   "outputs": [
    {
     "data": {
      "image/png": "[encoded data removed]",
      "text/plain": [
       "<Figure size 432x288 with 1 Axes>"
      ]
     },
     "metadata": {
      "needs_background": "light"
     },
     "output_type": "display_data"
    }
   ],
   "source": [
    "sb.barplot(y=dest_cancelled.index, x=dest_cancelled.values*100, color=base_color);"
   ]
  },
  {
   "cell_type": "markdown",
   "metadata": {},
   "source": [
    "> finally we will see the relation between the distance and cancelling the flight"
   ]
  },
  {
   "cell_type": "code",
   "execution_count": 93,
   "metadata": {},
   "outputs": [
    {
     "data": {
      "text/plain": [
       "<matplotlib.axes._subplots.AxesSubplot at 0x1ddcab38948>"
      ]
     },
     "execution_count": 93,
     "metadata": {},
     "output_type": "execute_result"
    },
    {
     "data": {
      "image/png": "[encoded data removed]",
      "text/plain": [
       "<Figure size 432x288 with 1 Axes>"
      ]
     },
     "metadata": {
      "needs_background": "light"
     },
     "output_type": "display_data"
    }
   ],
   "source": [
    "sb.boxplot(data=df, y='Distance', x='Cancelled', color=base_color)"
   ]
  },
  {
   "cell_type": "markdown",
   "metadata": {},
   "source": [
    "> we can see that cancelling flights was more with less distant flights."
   ]
  },
  {
   "cell_type": "markdown",
   "metadata": {},
   "source": [
    "## Multivariate Exploration\n",
    "\n",
    "> At first we will study the effect of distance with the month and arrival delay then with week days "
   ]
  },
  {
   "cell_type": "code",
   "execution_count": 85,
   "metadata": {
    "scrolled": true
   },
   "outputs": [
    {
     "data": {
      "image/png": "[encoded data removed]",
      "text/plain": [
       "<Figure size 440.75x360 with 1 Axes>"
      ]
     },
     "metadata": {
      "needs_background": "light"
     },
     "output_type": "display_data"
    }
   ],
   "source": [
    "g = sb.FacetGrid(data = df, hue = 'Month', height = 5,palette = 'colorblind');\n",
    "g.map(plt.scatter, 'Distance', 'ArrDelay');\n",
    "g.add_legend();"
   ]
  },
  {
   "cell_type": "code",
   "execution_count": 91,
   "metadata": {},
   "outputs": [
    {
     "data": {
      "image/png": "[encoded data removed]",
      "text/plain": [
       "<Figure size 454.5x360 with 1 Axes>"
      ]
     },
     "metadata": {
      "needs_background": "light"
     },
     "output_type": "display_data"
    }
   ],
   "source": [
    "g = sb.FacetGrid(data = df, hue = 'DayOfWeek', height = 5,palette = 'colorblind');\n",
    "g.map(plt.scatter, 'Distance', 'ArrDelay');\n",
    "g.add_legend();"
   ]
  },
  {
   "cell_type": "markdown",
   "metadata": {},
   "source": [
    "> The plots are not well informative due to multiple data points stacked on top of each other but we can see that distance of these flights did not affect its delay and the delays are nearly similar for each month and week days expect for some outliers\n",
    "and the effect of these outliers was well presented in the bivariante plots above.\n",
    "\n",
    ">finally we will explore the effecct of distance with month on the canellation of the flight "
   ]
  },
  {
   "cell_type": "code",
   "execution_count": 89,
   "metadata": {
    "scrolled": true
   },
   "outputs": [
    {
     "data": {
      "image/png": "[encoded data removed]",
      "text/plain": [
       "<Figure size 432x288 with 1 Axes>"
      ]
     },
     "metadata": {
      "needs_background": "light"
     },
     "output_type": "display_data"
    }
   ],
   "source": [
    "ax = sb.barplot(data = df, x = 'Month', y = 'Distance', hue = 'Cancelled');"
   ]
  },
  {
   "cell_type": "markdown",
   "metadata": {},
   "source": [
    "> from the plot we can see there is no diffrence between month but we can see that cancelling a flight is related with less distant flights."
   ]
  }
 ],
 "metadata": {
  "kernelspec": {
   "display_name": "Python 3",
   "language": "python",
   "name": "python3"
  },
  "language_info": {
   "codemirror_mode": {
    "name": "ipython",
    "version": 3
   },
   "file_extension": ".py",
   "mimetype": "text/x-python",
   "name": "python",
   "nbconvert_exporter": "python",
   "pygments_lexer": "ipython3",
   "version": "3.7.6"
  }
 },
 "nbformat": 4,
 "nbformat_minor": 2
}
